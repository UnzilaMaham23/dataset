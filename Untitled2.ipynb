{
  "nbformat": 4,
  "nbformat_minor": 0,
  "metadata": {
    "colab": {
      "provenance": [],
      "toc_visible": true,
      "authorship_tag": "ABX9TyN20C7age9wXW3Y3MkgU3Uu",
      "include_colab_link": true
    },
    "kernelspec": {
      "name": "python3",
      "display_name": "Python 3"
    },
    "language_info": {
      "name": "python"
    }
  },
  "cells": [
    {
      "cell_type": "markdown",
      "metadata": {
        "id": "view-in-github",
        "colab_type": "text"
      },
      "source": [
        "<a href=\"https://colab.research.google.com/github/UnzilaMaham23/dataset/blob/main/Untitled2.ipynb\" target=\"_parent\"><img src=\"https://colab.research.google.com/assets/colab-badge.svg\" alt=\"Open In Colab\"/></a>"
      ]
    },
    {
      "cell_type": "code",
      "execution_count": null,
      "metadata": {
        "id": "e65Hjmb8DHu0"
      },
      "outputs": [],
      "source": []
    },
    {
      "cell_type": "code",
      "source": [
        "# prompt: df = pd.read_csv(data_file)\n",
        "\n",
        "import pandas as pd\n",
        "# Assuming 'data_file' is a variable containing the path to your CSV file.\n",
        "df = pd.read_csv('data_file') # Replace 'data_file' with the actual path/filename\n"
      ],
      "metadata": {
        "id": "gdpL34hoDalh"
      },
      "execution_count": null,
      "outputs": []
    },
    {
      "cell_type": "code",
      "source": [],
      "metadata": {
        "id": "Kwo6Pw2bEjiT"
      },
      "execution_count": null,
      "outputs": []
    }
  ]
}